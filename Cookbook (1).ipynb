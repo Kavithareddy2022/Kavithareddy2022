{
  "cells": [
    {
      "cell_type": "code",
      "execution_count": 1,
      "metadata": {
        "id": "OVx84HTe5fgh"
      },
      "outputs": [],
      "source": [
        "#You have a cookbook and you want to plan what to cook next week. \n",
        "#You select a few recipes and the program automatically calculates what you need to buy and prints you the shopping list.\n",
        "#Skills: Data Structures (Lists, dictionaries), Operators, I/O (print, input), Functions, Conditions, Cycles\n",
        "\n",
        "#As a stretch goal, you can save the shopping list to the file and upload cookbook from the file. \n",
        "#For that you will need to learn File IO (e.g. documentation)\n",
        "\n",
        "#https://docs.python.org/3/tutorial/inputoutput.html"
      ]
    },
    {
      "cell_type": "code",
      "execution_count": null,
      "metadata": {
        "id": "RgbGjiVI_FJy"
      },
      "outputs": [],
      "source": [
        " name of the recipes: #need to use function-  dict()\n",
        "ingredients needed:\n",
        "need to buy\n",
        "shopping list"
      ]
    },
    {
      "cell_type": "code",
      "execution_count": null,
      "metadata": {
        "id": "88TR8oYWwAwR"
      },
      "outputs": [],
      "source": [
        ""
      ]
    },
    {
      "cell_type": "code",
      "execution_count": null,
      "metadata": {
        "id": "WtmUw8djwJJa",
        "colab": {
          "base_uri": "https://localhost:8080/"
        },
        "outputId": "dda5f266-5982-4e1d-9362-faa9101aeccd"
      },
      "outputs": [
        {
          "output_type": "stream",
          "name": "stdout",
          "text": [
            "which recipe you want to prepare? pizza\n",
            "\n",
            "Sorry, the recipes is not available\n"
          ]
        }
      ],
      "source": [
        "def Cookbook(recipes):\n",
        "  recipe_book = {\"tomato soup\": \"tomatoes, cornstarch\",\n",
        "                 \"butter chicken\": \"chicken, butter\",\n",
        "                 \"gulab jamun\": \"gulab jamun mix, sugar\"} #define a list with recipe with ingredients\n",
        "  \n",
        "  if recipes.lower() in recipe_book.keys():\n",
        "   print(recipe_book[recipes.lower()])\n",
        "   \n",
        "   Shopping_list= input(\"\\nplease type ingredients that your missing\")\n",
        "   Ingredients_to_buy= [\"tomatoes\", \"corn starch\", \"chicken\", \"butter\", \"gulab jamun\", \"sugar\"] # validate the user input\n",
        "   \n",
        "   if Shopping_list.lower() in Ingredients_to_buy:\n",
        "     print(\"\\nIngredients are not available, need to buy. \")\n",
        "   \n",
        "   else: \n",
        "    print(\"\\nIt is available, please prepare recipe \")\n",
        "  \n",
        "  else:\n",
        "    print(\"\\nSorry, the recipes is not available.\")\n",
        "\n",
        "Shopping_list= input(\"which recipe you want to prepare? \") #ask the user for recipe\n",
        "Cookbook(Shopping_list)\n",
        "\n"
      ]
    }
  ],
  "metadata": {
    "colab": {
      "collapsed_sections": [],
      "name": "Untitled1.ipynb",
      "provenance": []
    },
    "kernelspec": {
      "display_name": "Python 3",
      "name": "python3"
    },
    "language_info": {
      "name": "python"
    }
  },
  "nbformat": 4,
  "nbformat_minor": 0
}