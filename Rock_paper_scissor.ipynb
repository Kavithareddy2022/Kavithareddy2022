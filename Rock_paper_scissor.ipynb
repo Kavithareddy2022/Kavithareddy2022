{
  "nbformat": 4,
  "nbformat_minor": 0,
  "metadata": {
    "colab": {
      "provenance": [],
      "authorship_tag": "ABX9TyMQnqug15AcofdOkGnBFCLy",
      "include_colab_link": true
    },
    "kernelspec": {
      "name": "python3",
      "display_name": "Python 3"
    },
    "language_info": {
      "name": "python"
    }
  },
  "cells": [
    {
      "cell_type": "markdown",
      "metadata": {
        "id": "view-in-github",
        "colab_type": "text"
      },
      "source": [
        "<a href=\"https://colab.research.google.com/github/Kavithareddy2022/Kavithareddy2022/blob/main/Rock_paper_scissor.ipynb\" target=\"_parent\"><img src=\"https://colab.research.google.com/assets/colab-badge.svg\" alt=\"Open In Colab\"/></a>"
      ]
    },
    {
      "cell_type": "code",
      "execution_count": 13,
      "metadata": {
        "id": "XLj7ZJDt7ZKK"
      },
      "outputs": [],
      "source": [
        "#Rock Paper Scissor Program with two players"
      ]
    },
    {
      "cell_type": "code",
      "source": [
        "#Import the libraries   #allows you to generate random numbers.\n",
        "import random"
      ],
      "metadata": {
        "id": "VCjsj2IHBIH6"
      },
      "execution_count": 14,
      "outputs": []
    },
    {
      "cell_type": "code",
      "source": [
        "list_choices = [\"R\",\"P\",\"S\"]  #created a variable called list choices with list\n",
        "def user_choice(input):  #function with input with loop\n",
        "\n",
        "  if input == \"R\":         \n",
        "    return \"Rock\"\n",
        "  elif input == \"P\":\n",
        "    return \"Paper\"\n",
        "  elif input == \"S\":\n",
        "    return \"Scissor\"\n",
        "  else:\n",
        "    return \"Not[R,P or S]\""
      ],
      "metadata": {
        "id": "rs1nzmOxCFCL"
      },
      "execution_count": null,
      "outputs": []
    },
    {
      "cell_type": "code",
      "source": [
        "print('Rock, Paper, Scissor - Start!')   #print statement\n",
        "print('[R]=Rock, [P]=Paper, [S]=Scissor and [E]=End')\n",
        "counter = 1   #creating a variable called counter for each game\n",
        "\n",
        "while True:\n",
        "  print('Game '+str(counter)+':')  #can play a n number of games until quit/end the game\n",
        "  print('please choose a letter:')\n",
        "  player_choice = input()\n",
        "\n",
        "  if player_choice == \"E\":               #if player chooses End then the loop will be break and ends the game\n",
        "    print('Thanks for playing !')\n",
        "    break;\n",
        "\n",
        "  random_index = random.randint(0,2)         \n",
        "  computer_choice = list_choices[random_index]\n",
        "\n",
        "  print('You choose '+user_choice(player_choice)+' the computer choose '+user_choice(computer_choice))  #two players\n",
        "\n",
        "  if player_choice == \"R\" and computer_choice == \"S\":\n",
        "    print('you win, Rock beats Scissor')\n",
        "  elif player_choice == \"P\" and computer_choice == \"R\":\n",
        "    print('you win, Paper beats Rock')\n",
        "  elif player_choice == \"S\" and computer_choice == \"p\":\n",
        "    print('you win, Scissor beats Paper')\n",
        "  elif player_choice == \"R\" and computer_choice == \"p\":\n",
        "    print('Computer win, Rock beats Paper')\n",
        "  elif player_choice == \"P\" and computer_choice == \"S\":\n",
        "    print('Computer win, Paper beats Scissor')\n",
        "  elif player_choice == \"S\" and computer_choice == \"R\":\n",
        "    print('Computer win, Scissor beats rock')\n",
        "  elif player_choice == computer_choice:\n",
        "    print('It is a tie')\n",
        "  else:\n",
        "    print('please enter [R,P,S or E]')"
      ],
      "metadata": {
        "colab": {
          "base_uri": "https://localhost:8080/"
        },
        "id": "5JxYpqqMKqjq",
        "outputId": "b7d944b1-46d7-4df6-8bf3-f37d1559d7df"
      },
      "execution_count": null,
      "outputs": [
        {
          "output_type": "stream",
          "name": "stdout",
          "text": [
            "Rock, Paper, Scissor - Start!\n",
            "[R]=Rock, [P]=Paper, [S]=Scossor and [E]=End\n",
            "Game 1:\n",
            "please choose a letter:\n",
            "r\n",
            "You choose Not[R,P or S] the computer choose Paper\n",
            "please enter [R,P,S or E]\n",
            "Game 1:\n",
            "please choose a letter:\n",
            "R\n",
            "You choose Rock the computer choose Paper\n",
            "please enter [R,P,S or E]\n",
            "Game 1:\n",
            "please choose a letter:\n"
          ]
        }
      ]
    }
  ]
}