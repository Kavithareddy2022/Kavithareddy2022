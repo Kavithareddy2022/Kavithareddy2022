{
  "cells": [
    {
      "cell_type": "code",
      "execution_count": 1,
      "metadata": {
        "id": "XLj7ZJDt7ZKK"
      },
      "outputs": [],
      "source": [
        "#Rock Paper Scissor Program with two players"
      ]
    },
    {
      "cell_type": "code",
      "execution_count": 2,
      "metadata": {
        "id": "VCjsj2IHBIH6"
      },
      "outputs": [],
      "source": [
        "#Import the libraries   #allows you to generate random numbers.\n",
        "import random"
      ]
    },
    {
      "cell_type": "code",
      "execution_count": 12,
      "metadata": {
        "id": "rs1nzmOxCFCL"
      },
      "outputs": [],
      "source": [
        "list_choices = [\"R\",\"P\",\"S\",\"E\"]    #created a variable called list choices with list\n",
        "def user_choice(input):  #function with input with loop\n",
        " if input == \"R\":         \n",
        "  return \"Rock\"\n",
        " elif input == \"P\":\n",
        "  return \"Paper\"\n",
        " elif input == \"S\":\n",
        "  return \"Scissor\"\n",
        " else:\n",
        "  return \"Thanks for Playing\"\n",
        "   "
      ]
    },
    {
      "cell_type": "code",
      "source": [
        "print('Rock, Paper, Scissor - Start!')   #print statement\n",
        "print('[R]=Rock, [P]=Paper, [S]=Scissor and [E]=End')\n",
        "counter = 1   #creating a variable called counter for each game\n",
        "\n",
        "while True:\n",
        "  print('Game '+str(counter)+':')  #can play a n number of games until quit/end the game\n",
        "  print('please choose a letter:')\n",
        "  player_choice = input()\n",
        "\n",
        "  if player_choice == \"E\":               #if player chooses End then the loop will be break and ends the game\n",
        "    print('Thanks for playing !')\n",
        "    break;\n",
        "\n",
        "  random_index = random.randint(0,2)         \n",
        "  computer_choice = list_choices[random_index]\n",
        "\n",
        "  print('You choose '+user_choice(player_choice)+' the computer choose '+user_choice(computer_choice))  #two players\n",
        "\n",
        "  if player_choice == \"R\" and computer_choice == \"S\":\n",
        "    print('you win, Rock beats Scissor')\n",
        "  elif player_choice == \"P\" and computer_choice == \"R\":\n",
        "    print('you win, Paper beats Rock')\n",
        "  elif player_choice == \"S\" and computer_choice == \"p\":\n",
        "    print('you win, Scissor beats Paper')\n",
        "  elif player_choice == \"R\" and computer_choice == \"p\":\n",
        "    print('Computer win, Rock beats Paper')\n",
        "  elif player_choice == \"P\" and computer_choice == \"S\":\n",
        "    print('Computer win, Paper beats Scissor')\n",
        "  elif player_choice == \"S\" and computer_choice == \"R\":\n",
        "    print('Computer win, Scissor beats rock')\n",
        "  elif player_choice == computer_choice:\n",
        "    print('It is a tie')\n",
        "  else:\n",
        "    print('please enter [R,P,S or E]')\n",
        "\n",
        "\n",
        "    counter = counter + 1\n",
        "    print('\\n')"
      ],
      "metadata": {
        "colab": {
          "base_uri": "https://localhost:8080/"
        },
        "id": "aQHEDbxQB6Bl",
        "outputId": "a3907d32-a6a4-41ac-a7d8-84df2c533162"
      },
      "execution_count": 17,
      "outputs": [
        {
          "output_type": "stream",
          "name": "stdout",
          "text": [
            "Rock, Paper, Scissor - Start!\n",
            "[R]=Rock, [P]=Paper, [S]=Scissor and [E]=End\n",
            "Game 1:\n",
            "please choose a letter:\n",
            "r\n",
            "You choose Not[R,P or S] the computer choose Paper\n",
            "please enter [R,P,S or E]\n",
            "\n",
            "\n",
            "Game 2:\n",
            "please choose a letter:\n",
            "R\n",
            "You choose Rock the computer choose Scissor\n",
            "you win, Rock beats Scissor\n",
            "Game 2:\n",
            "please choose a letter:\n",
            "S\n",
            "You choose Scissor the computer choose Rock\n",
            "Computer win, Scissor beats rock\n",
            "Game 2:\n",
            "please choose a letter:\n",
            "E\n",
            "Thanks for playing !\n"
          ]
        }
      ]
    }
  ],
  "metadata": {
    "colab": {
      "provenance": [],
      "authorship_tag": "ABX9TyNpBhi0FkkjtoGur/ri+N7N"
    },
    "kernelspec": {
      "display_name": "Python 3",
      "name": "python3"
    },
    "language_info": {
      "name": "python"
    }
  },
  "nbformat": 4,
  "nbformat_minor": 0
}