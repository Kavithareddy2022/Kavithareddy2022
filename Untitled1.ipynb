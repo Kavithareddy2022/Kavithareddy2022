{
  "cells": [
    {
      "cell_type": "code",
      "execution_count": null,
      "metadata": {
        "colab": {
          "base_uri": "https://localhost:8080/",
          "height": 133
        },
        "id": "OVx84HTe5fgh",
        "outputId": "1944dc63-18ca-4714-b04c-91bad8039c40"
      },
      "outputs": [
        {
          "ename": "SyntaxError",
          "evalue": "ignored",
          "output_type": "error",
          "traceback": [
            "\u001b[0;36m  File \u001b[0;32m\"<ipython-input-25-071751c9023a>\"\u001b[0;36m, line \u001b[0;32m1\u001b[0m\n\u001b[0;31m    You have a cookbook and you want to plan what to cook next week.\u001b[0m\n\u001b[0m           ^\u001b[0m\n\u001b[0;31mSyntaxError\u001b[0m\u001b[0;31m:\u001b[0m invalid syntax\n"
          ]
        }
      ],
      "source": [
        "You have a cookbook and you want to plan what to cook next week. \n",
        "You select a few recipes and the program automatically calculates what you need to buy and prints you the shopping list.\n",
        "Skills: Data Structures (Lists, dictionaries), Operators, I/O (print, input), Functions, Conditions, Cycles\n",
        "\n",
        "As a stretch goal, you can save the shopping list to the file and upload cookbook from the file. \n",
        "For that you will need to learn File IO (e.g. documentation)\n",
        "\n",
        "https://docs.python.org/3/tutorial/inputoutput.html"
      ]
    },
    {
      "cell_type": "code",
      "execution_count": null,
      "metadata": {
        "id": "RgbGjiVI_FJy"
      },
      "outputs": [],
      "source": [
        " name of the recipes: #need to use function-  dict()\n",
        "ingredients needed:\n",
        "need to buy\n",
        "shopping list"
      ]
    },
    {
      "cell_type": "code",
      "execution_count": null,
      "metadata": {
        "colab": {
          "base_uri": "https://localhost:8080/",
          "height": 536
        },
        "id": "4wiJ9RBN_QOJ",
        "outputId": "094bfd22-deb8-4a89-ec72-ebef5dbe1424"
      },
      "outputs": [
        {
          "output_type": "error",
          "ename": "KeyboardInterrupt",
          "evalue": "ignored",
          "traceback": [
            "\u001b[0;31m---------------------------------------------------------------------------\u001b[0m",
            "\u001b[0;31mKeyboardInterrupt\u001b[0m                         Traceback (most recent call last)",
            "\u001b[0;32m/usr/local/lib/python3.7/dist-packages/ipykernel/kernelbase.py\u001b[0m in \u001b[0;36m_input_request\u001b[0;34m(self, prompt, ident, parent, password)\u001b[0m\n\u001b[1;32m    728\u001b[0m             \u001b[0;32mtry\u001b[0m\u001b[0;34m:\u001b[0m\u001b[0;34m\u001b[0m\u001b[0;34m\u001b[0m\u001b[0m\n\u001b[0;32m--> 729\u001b[0;31m                 \u001b[0mident\u001b[0m\u001b[0;34m,\u001b[0m \u001b[0mreply\u001b[0m \u001b[0;34m=\u001b[0m \u001b[0mself\u001b[0m\u001b[0;34m.\u001b[0m\u001b[0msession\u001b[0m\u001b[0;34m.\u001b[0m\u001b[0mrecv\u001b[0m\u001b[0;34m(\u001b[0m\u001b[0mself\u001b[0m\u001b[0;34m.\u001b[0m\u001b[0mstdin_socket\u001b[0m\u001b[0;34m,\u001b[0m \u001b[0;36m0\u001b[0m\u001b[0;34m)\u001b[0m\u001b[0;34m\u001b[0m\u001b[0;34m\u001b[0m\u001b[0m\n\u001b[0m\u001b[1;32m    730\u001b[0m             \u001b[0;32mexcept\u001b[0m \u001b[0mException\u001b[0m\u001b[0;34m:\u001b[0m\u001b[0;34m\u001b[0m\u001b[0;34m\u001b[0m\u001b[0m\n",
            "\u001b[0;32m/usr/local/lib/python3.7/dist-packages/jupyter_client/session.py\u001b[0m in \u001b[0;36mrecv\u001b[0;34m(self, socket, mode, content, copy)\u001b[0m\n\u001b[1;32m    802\u001b[0m         \u001b[0;32mtry\u001b[0m\u001b[0;34m:\u001b[0m\u001b[0;34m\u001b[0m\u001b[0;34m\u001b[0m\u001b[0m\n\u001b[0;32m--> 803\u001b[0;31m             \u001b[0mmsg_list\u001b[0m \u001b[0;34m=\u001b[0m \u001b[0msocket\u001b[0m\u001b[0;34m.\u001b[0m\u001b[0mrecv_multipart\u001b[0m\u001b[0;34m(\u001b[0m\u001b[0mmode\u001b[0m\u001b[0;34m,\u001b[0m \u001b[0mcopy\u001b[0m\u001b[0;34m=\u001b[0m\u001b[0mcopy\u001b[0m\u001b[0;34m)\u001b[0m\u001b[0;34m\u001b[0m\u001b[0;34m\u001b[0m\u001b[0m\n\u001b[0m\u001b[1;32m    804\u001b[0m         \u001b[0;32mexcept\u001b[0m \u001b[0mzmq\u001b[0m\u001b[0;34m.\u001b[0m\u001b[0mZMQError\u001b[0m \u001b[0;32mas\u001b[0m \u001b[0me\u001b[0m\u001b[0;34m:\u001b[0m\u001b[0;34m\u001b[0m\u001b[0;34m\u001b[0m\u001b[0m\n",
            "\u001b[0;32m/usr/local/lib/python3.7/dist-packages/zmq/sugar/socket.py\u001b[0m in \u001b[0;36mrecv_multipart\u001b[0;34m(self, flags, copy, track)\u001b[0m\n\u001b[1;32m    624\u001b[0m         \"\"\"\n\u001b[0;32m--> 625\u001b[0;31m         \u001b[0mparts\u001b[0m \u001b[0;34m=\u001b[0m \u001b[0;34m[\u001b[0m\u001b[0mself\u001b[0m\u001b[0;34m.\u001b[0m\u001b[0mrecv\u001b[0m\u001b[0;34m(\u001b[0m\u001b[0mflags\u001b[0m\u001b[0;34m,\u001b[0m \u001b[0mcopy\u001b[0m\u001b[0;34m=\u001b[0m\u001b[0mcopy\u001b[0m\u001b[0;34m,\u001b[0m \u001b[0mtrack\u001b[0m\u001b[0;34m=\u001b[0m\u001b[0mtrack\u001b[0m\u001b[0;34m)\u001b[0m\u001b[0;34m]\u001b[0m\u001b[0;34m\u001b[0m\u001b[0;34m\u001b[0m\u001b[0m\n\u001b[0m\u001b[1;32m    626\u001b[0m         \u001b[0;31m# have first part already, only loop while more to receive\u001b[0m\u001b[0;34m\u001b[0m\u001b[0;34m\u001b[0m\u001b[0;34m\u001b[0m\u001b[0m\n",
            "\u001b[0;32mzmq/backend/cython/socket.pyx\u001b[0m in \u001b[0;36mzmq.backend.cython.socket.Socket.recv\u001b[0;34m()\u001b[0m\n",
            "\u001b[0;32mzmq/backend/cython/socket.pyx\u001b[0m in \u001b[0;36mzmq.backend.cython.socket.Socket.recv\u001b[0;34m()\u001b[0m\n",
            "\u001b[0;32mzmq/backend/cython/socket.pyx\u001b[0m in \u001b[0;36mzmq.backend.cython.socket._recv_copy\u001b[0;34m()\u001b[0m\n",
            "\u001b[0;32m/usr/local/lib/python3.7/dist-packages/zmq/backend/cython/checkrc.pxd\u001b[0m in \u001b[0;36mzmq.backend.cython.checkrc._check_rc\u001b[0;34m()\u001b[0m\n",
            "\u001b[0;31mKeyboardInterrupt\u001b[0m: ",
            "\nDuring handling of the above exception, another exception occurred:\n",
            "\u001b[0;31mKeyboardInterrupt\u001b[0m                         Traceback (most recent call last)",
            "\u001b[0;32m<ipython-input-2-421244a8f7e6>\u001b[0m in \u001b[0;36m<module>\u001b[0;34m()\u001b[0m\n\u001b[1;32m      8\u001b[0m    \u001b[0mprint\u001b[0m \u001b[0;34m(\u001b[0m\u001b[0;34m\"Sorry, the recipes is not available\"\u001b[0m\u001b[0;34m)\u001b[0m\u001b[0;34m\u001b[0m\u001b[0;34m\u001b[0m\u001b[0m\n\u001b[1;32m      9\u001b[0m \u001b[0;34m\u001b[0m\u001b[0m\n\u001b[0;32m---> 10\u001b[0;31m \u001b[0mrecipes\u001b[0m \u001b[0;34m=\u001b[0m \u001b[0minput\u001b[0m\u001b[0;34m(\u001b[0m\u001b[0;34m\"choose a recipes from thesse three: Tomato soup, butter chicken, gulab_jamun \"\u001b[0m\u001b[0;34m)\u001b[0m \u001b[0;31m#ask the user for an input\u001b[0m\u001b[0;34m\u001b[0m\u001b[0;34m\u001b[0m\u001b[0m\n\u001b[0m\u001b[1;32m     11\u001b[0m \u001b[0mcookbook\u001b[0m\u001b[0;34m(\u001b[0m\u001b[0mrecipes\u001b[0m\u001b[0;34m)\u001b[0m\u001b[0;34m\u001b[0m\u001b[0;34m\u001b[0m\u001b[0m\n\u001b[1;32m     12\u001b[0m \u001b[0mShopping_list\u001b[0m\u001b[0;34m=\u001b[0m \u001b[0minput\u001b[0m \u001b[0;34m(\u001b[0m\u001b[0;34m\"which ingredients need to buy? \"\u001b[0m\u001b[0;34m)\u001b[0m\u001b[0;34m\u001b[0m\u001b[0;34m\u001b[0m\u001b[0m\n",
            "\u001b[0;32m/usr/local/lib/python3.7/dist-packages/ipykernel/kernelbase.py\u001b[0m in \u001b[0;36mraw_input\u001b[0;34m(self, prompt)\u001b[0m\n\u001b[1;32m    702\u001b[0m             \u001b[0mself\u001b[0m\u001b[0;34m.\u001b[0m\u001b[0m_parent_ident\u001b[0m\u001b[0;34m,\u001b[0m\u001b[0;34m\u001b[0m\u001b[0;34m\u001b[0m\u001b[0m\n\u001b[1;32m    703\u001b[0m             \u001b[0mself\u001b[0m\u001b[0;34m.\u001b[0m\u001b[0m_parent_header\u001b[0m\u001b[0;34m,\u001b[0m\u001b[0;34m\u001b[0m\u001b[0;34m\u001b[0m\u001b[0m\n\u001b[0;32m--> 704\u001b[0;31m             \u001b[0mpassword\u001b[0m\u001b[0;34m=\u001b[0m\u001b[0;32mFalse\u001b[0m\u001b[0;34m,\u001b[0m\u001b[0;34m\u001b[0m\u001b[0;34m\u001b[0m\u001b[0m\n\u001b[0m\u001b[1;32m    705\u001b[0m         )\n\u001b[1;32m    706\u001b[0m \u001b[0;34m\u001b[0m\u001b[0m\n",
            "\u001b[0;32m/usr/local/lib/python3.7/dist-packages/ipykernel/kernelbase.py\u001b[0m in \u001b[0;36m_input_request\u001b[0;34m(self, prompt, ident, parent, password)\u001b[0m\n\u001b[1;32m    732\u001b[0m             \u001b[0;32mexcept\u001b[0m \u001b[0mKeyboardInterrupt\u001b[0m\u001b[0;34m:\u001b[0m\u001b[0;34m\u001b[0m\u001b[0;34m\u001b[0m\u001b[0m\n\u001b[1;32m    733\u001b[0m                 \u001b[0;31m# re-raise KeyboardInterrupt, to truncate traceback\u001b[0m\u001b[0;34m\u001b[0m\u001b[0;34m\u001b[0m\u001b[0;34m\u001b[0m\u001b[0m\n\u001b[0;32m--> 734\u001b[0;31m                 \u001b[0;32mraise\u001b[0m \u001b[0mKeyboardInterrupt\u001b[0m\u001b[0;34m\u001b[0m\u001b[0;34m\u001b[0m\u001b[0m\n\u001b[0m\u001b[1;32m    735\u001b[0m             \u001b[0;32melse\u001b[0m\u001b[0;34m:\u001b[0m\u001b[0;34m\u001b[0m\u001b[0;34m\u001b[0m\u001b[0m\n\u001b[1;32m    736\u001b[0m                 \u001b[0;32mbreak\u001b[0m\u001b[0;34m\u001b[0m\u001b[0;34m\u001b[0m\u001b[0m\n",
            "\u001b[0;31mKeyboardInterrupt\u001b[0m: "
          ]
        }
      ],
      "source": [
        "def cookbook(recipes):\n",
        "  recipe_book = {\"Tomato soup\": \"tomatoes, cornstarch\",\n",
        "                 \"Butter chicken\": \"Chicken, Butter\",\n",
        "                 \"Gulab_jamun\": \"Gulab jamun mix, Sugar\"} #define a list with recipe with ingredients\n",
        "  if recipes in recipe_book.keys():\n",
        "   print(recipe_book[recipes])\n",
        "  else:\n",
        "   print (\"Sorry, the recipes is not available\")\n",
        "\n",
        "recipes = input(\"choose a recipes from thesse three: Tomato soup, butter chicken, gulab_jamun \") #ask the user for an input\n",
        "cookbook(recipes)\n",
        "Shopping_list= input (\"which ingredients need to buy? \")\n",
        "print(\"Shoppinglist  is ...\", Shopping_list)\n",
        "\n",
        "\n",
        "\n"
      ]
    },
    {
      "cell_type": "code",
      "execution_count": null,
      "metadata": {
        "id": "88TR8oYWwAwR"
      },
      "outputs": [],
      "source": [
        ""
      ]
    },
    {
      "cell_type": "code",
      "execution_count": 12,
      "metadata": {
        "id": "WtmUw8djwJJa",
        "colab": {
          "base_uri": "https://localhost:8080/"
        },
        "outputId": "dda5f266-5982-4e1d-9362-faa9101aeccd"
      },
      "outputs": [
        {
          "output_type": "stream",
          "name": "stdout",
          "text": [
            "which recipe you want to prepare? pizza\n",
            "\n",
            "Sorry, the recipes is not available\n"
          ]
        }
      ],
      "source": [
        "def Cookbook(recipes):\n",
        "  recipe_book = {\"tomato soup\": \"tomatoes, cornstarch\",\n",
        "                 \"butter chicken\": \"chicken, butter\",\n",
        "                 \"gulab jamun\": \"gulab jamun mix, sugar\"} #define a list with recipe with ingredients\n",
        "  \n",
        "  if recipes.lower() in recipe_book.keys():\n",
        "   print(recipe_book[recipes.lower()])\n",
        "   \n",
        "   Shopping_list= input(\"\\nplease type ingredients that your missing\")\n",
        "   Ingredients_to_buy= [\"tomatoes\", \"corn starch\", \"chicken\", \"butter\", \"gulab jamun\", \"sugar\"] # validate the user input\n",
        "   \n",
        "   if Shopping_list.lower() in Ingredients_to_buy:\n",
        "     print(\"\\nIngredients are not available, need to buy. \")\n",
        "   \n",
        "   else: \n",
        "    print(\"\\nIt is available, please prepare recipe \")\n",
        "  \n",
        "  else:\n",
        "    print(\"\\nSorry, the recipes is not available.\")\n",
        "\n",
        "Shopping_list= input(\"which recipe you want to prepare? \") #ask the user for recipe\n",
        "Cookbook(Shopping_list)\n",
        "\n"
      ]
    },
    {
      "cell_type": "code",
      "execution_count": null,
      "metadata": {
        "id": "ZfxSurN4znXi",
        "colab": {
          "base_uri": "https://localhost:8080/"
        },
        "outputId": "cba8ea9f-412e-492a-d436-d8ab035288fb"
      },
      "outputs": [
        {
          "output_type": "stream",
          "name": "stdout",
          "text": [
            "What day is today? monday\n",
            "Work day :-(\n"
          ]
        }
      ],
      "source": [
        "def is_weekend (party_day):\n",
        "  weekend = [\"saturday\", \"sunday\"] #define a list with the weekend days\n",
        "  if party_day in weekend:\n",
        "    return True\n",
        "  else:\n",
        "    return False\n",
        "\n",
        "#ask the user for an input\n",
        "today = input(\"What day is today? \")\n",
        "\n",
        "# validate the user input - make sure it is a week day\n",
        "week_days = [\"monday\", \"tuesday\", \"wednesday\", \"thursdays\", \"friday\", \"saturday\", \"sunday\"]\n",
        "while today.lower() not in week_days:\n",
        "  today = input(\"Not a week day. Please enter again \")\n",
        "\n",
        "# call the weekend function\n",
        "result = is_weekend(today.lower())\n",
        "if result:\n",
        "  print(\"Party day\")\n",
        "else:\n",
        "  print(\"Work day :-(\")"
      ]
    },
    {
      "cell_type": "code",
      "execution_count": null,
      "metadata": {
        "id": "zyRb6mhYtOCC"
      },
      "outputs": [],
      "source": [
        "#recipes = {}\n",
        "#current_ingredients = ['chicken', 'butter', 'milk', 'bread', 'cheese', 'tomatoes', 'pepper_powder', 'corn_starch',\n",
        "                       #'gulab_jamun_mix', 'sugar', 'water']\n",
        "#recipe_file = \"recipes.txt\"  \n",
        "\n",
        "#file = \"/recipes.txt\"\n",
        "#with open(file,'r') as f:  \n",
        " # read_data = f.read()\n",
        "  #for line in f:\n",
        "    #print(f)\n",
        "    #words = line.split()\n",
        "    #if words:\n",
        "      #recipes[words[0]] = words[1:]"
      ]
    }
  ],
  "metadata": {
    "colab": {
      "collapsed_sections": [],
      "name": "Untitled1.ipynb",
      "provenance": []
    },
    "kernelspec": {
      "display_name": "Python 3",
      "name": "python3"
    },
    "language_info": {
      "name": "python"
    }
  },
  "nbformat": 4,
  "nbformat_minor": 0
}